{
  "nbformat": 4,
  "nbformat_minor": 0,
  "metadata": {
    "kernelspec": {
      "display_name": "Python 3",
      "language": "python",
      "name": "python3"
    },
    "language_info": {
      "codemirror_mode": {
        "name": "ipython",
        "version": 3
      },
      "file_extension": ".py",
      "mimetype": "text/x-python",
      "name": "python",
      "nbconvert_exporter": "python",
      "pygments_lexer": "ipython3",
      "version": "3.7.1"
    },
    "colab": {
      "name": "[VN]Lab_5_4_Weight_Initializers.ipynb",
      "provenance": [],
      "collapsed_sections": []
    }
  },
  "cells": [
    {
      "cell_type": "markdown",
      "metadata": {
        "id": "TctZW5vsOk__"
      },
      "source": [
        "# Khởi tạo trọng số (weight) và độ lệch (bias)\n",
        "\n",
        "Trong bài đọc này, chúng tôi nghiên cứu các cách khác nhau để khởi tạo trọng số và độ lệch trong các lớp của mạng nơ-ron."
      ]
    },
    {
      "cell_type": "code",
      "metadata": {
        "id": "_oRR-XTmOlAF"
      },
      "source": [
        "%matplotlib inline\n",
        "import tensorflow as tf\n",
        "import pandas as pd\n",
        "print(tf.__version__)"
      ],
      "execution_count": null,
      "outputs": []
    },
    {
      "cell_type": "markdown",
      "metadata": {
        "id": "vmcHrWL3OlAG"
      },
      "source": [
        "### Trọng số và bias mặc định\n",
        "\n",
        "Trong các mô hình chúng ta đã làm cho đến nay, chúng ta vẫn chưa chỉ định các giá trị ban đầu của trọng số và bias trong mỗi lớp của mạng nơ-ron.\n",
        "\n",
        "Các giá trị mặc định của trọng số và bias trong TensorFlow phụ thuộc vào loại lớp mà chúng ta đang sử dụng.\n",
        "\n",
        "Ví dụ: trong lớp `Dense`, bias được đặt thành 0 (`số không`) theo mặc định, trong khi trọng số được đặt theo `glorot_uniform`.\n",
        "\n",
        "Khởi tạo Glorot lấy ngẫu nhiên các trọng số một cách đồng nhất từ khoảng đóng $ [- c, c] $, trong đó $$c = \\sqrt{\\frac{6}{n_{input}+n_{output}}}$$"
      ]
    },
    {
      "cell_type": "markdown",
      "metadata": {
        "id": "mfvxbTBZOlAG"
      },
      "source": [
        "và $ n_ {input} $ và $ n_ {output} $ là số lượng đầu vào và đầu ra từ lớp tương ứng."
      ]
    },
    {
      "cell_type": "markdown",
      "metadata": {
        "id": "PN13hqKmOlAG"
      },
      "source": [
        "### Khởi tạo trọng số và bias\n",
        "Chúng ta thường muốn khởi tạo trọng số và bias của mình, và TensorFlow làm cho quá trình này đơn giản hơn.\n",
        "\n",
        "Khi chúng ta xây dựng một mô hình trong TensorFlow, mỗi lớp có các đối số tùy chọn `kernel_initialiser` và `bias_initialiser`, được sử dụng để đặt trọng số và bias tương ứng.\n",
        "\n",
        "Nếu một lớp không có trọng số hoặc bias (ví dụ: lớp pooling layer tối đa), thì việc cố gắng đặt `kernel_initialiser` hoặc `bias_initialiser` sẽ gây ra lỗi.\n",
        "\n",
        "Hãy xem ví dụ sử dụng một số cách khởi tạo khác nhau có sẵn trong Keras."
      ]
    },
    {
      "cell_type": "code",
      "metadata": {
        "id": "uUlZbExeOlAH"
      },
      "source": [
        "from tensorflow.keras.models import Sequential\n",
        "from tensorflow.keras.layers import Flatten, Dense, Conv1D, MaxPooling1D "
      ],
      "execution_count": null,
      "outputs": []
    },
    {
      "cell_type": "code",
      "metadata": {
        "id": "2h7RpamlOlAH"
      },
      "source": [
        "#Constructing a model\n",
        "\n",
        "model = Sequential([\n",
        "    Conv1D(filters=16, kernel_size=3, input_shape=(128, 64), kernel_initializer='random_uniform', bias_initializer=\"zeros\", activation='relu'),\n",
        "    MaxPooling1D(pool_size=4),\n",
        "    Flatten(),\n",
        "    Dense(64, kernel_initializer='he_uniform', bias_initializer='ones', activation='relu'),\n",
        "])"
      ],
      "execution_count": null,
      "outputs": []
    },
    {
      "cell_type": "markdown",
      "metadata": {
        "id": "CJ6-a1wvOlAH"
      },
      "source": [
        "Như ví dụ minh họa sau, chúng ta cũng có thể khởi tạo các trình khởi tạo theo một cách hơi khác cho phép đặt các đối số tùy chọn của phương thức khởi tạo."
      ]
    },
    {
      "cell_type": "code",
      "metadata": {
        "id": "uE-8T74LOlAI"
      },
      "source": [
        "#Adding some layers to our model\n",
        "\n",
        "model.add(Dense(64, \n",
        "                kernel_initializer=tf.keras.initializers.RandomNormal(mean=0.0, stddev=0.05), \n",
        "                bias_initializer=tf.keras.initializers.Constant(value=0.4), \n",
        "                activation='relu'),)\n",
        "\n",
        "model.add(Dense(8, \n",
        "                kernel_initializer=tf.keras.initializers.Orthogonal(gain=1.0, seed=None), \n",
        "                bias_initializer=tf.keras.initializers.Constant(value=0.4), \n",
        "                activation='relu'))"
      ],
      "execution_count": null,
      "outputs": []
    },
    {
      "cell_type": "markdown",
      "metadata": {
        "id": "YPHFjYFkOlAI"
      },
      "source": [
        "### Khởi tạo trọng số và bias tùy chỉnh \n",
        "Bạn cũng có thể xác định trọng số của mình và các khởi tạo bias.\n",
        "Các trình khởi tạo phải có 2 đối số, `shape` của tensor được khởi tạo và `dtype`.\n",
        "\n",
        "Đây là một ví dụ nhỏ cho thấy cách bạn có thể sử dụng trình khởi tạo tùy chỉnh của mình trong một lớp."
      ]
    },
    {
      "cell_type": "code",
      "metadata": {
        "id": "pMENH9nZOlAI"
      },
      "source": [
        "import tensorflow.keras.backend as K"
      ],
      "execution_count": null,
      "outputs": []
    },
    {
      "cell_type": "code",
      "metadata": {
        "id": "ng38eOJWOlAI"
      },
      "source": [
        "#Example of a custom initializer\n",
        "\n",
        "def my_init(shape, dtype=None):\n",
        "    return K.random_normal(shape, dtype=dtype)\n",
        "\n",
        "model.add(Dense(64, kernel_initializer=my_init))"
      ],
      "execution_count": null,
      "outputs": []
    },
    {
      "cell_type": "markdown",
      "metadata": {
        "id": "g408AtBkOlAJ"
      },
      "source": [
        "Hãy xem tóm tắt về mô hình đã hoàn thiện của chúng ta."
      ]
    },
    {
      "cell_type": "code",
      "metadata": {
        "id": "DYXKzZ7oOlAJ"
      },
      "source": [
        "model.summary()"
      ],
      "execution_count": null,
      "outputs": []
    },
    {
      "cell_type": "markdown",
      "metadata": {
        "id": "EdwX1_56OlAJ"
      },
      "source": [
        "### Trực quan hóa trọng số và bias khởi tạo"
      ]
    },
    {
      "cell_type": "markdown",
      "metadata": {
        "id": "neSb0CQhOlAJ"
      },
      "source": [
        "Cuối cùng, có thể thấy hiệu quả của các trình khởi tạo đối với trọng số và bias bằng cách vẽ biểu đồ của các giá trị kết quả. So sánh các biểu đồ này với các trình khởi tạo đã chọn cho mỗi lớp ở trên."
      ]
    },
    {
      "cell_type": "code",
      "metadata": {
        "id": "vBlfNXv7OlAJ"
      },
      "source": [
        "import matplotlib.pyplot as plt"
      ],
      "execution_count": null,
      "outputs": []
    },
    {
      "cell_type": "code",
      "metadata": {
        "id": "m223y3BFOlAK"
      },
      "source": [
        "fig, axes = plt.subplots(5, 2, figsize=(12,16))\n",
        "fig.subplots_adjust(hspace=0.5, wspace=0.5)\n",
        "\n",
        "# Filter out the pooling and flatten layers, that don't have any weights\n",
        "weight_layers = [layer for layer in model.layers if len(layer.weights) > 0]\n",
        "\n",
        "for i, layer in enumerate(weight_layers):\n",
        "    for j in [0, 1]:\n",
        "        axes[i, j].hist(layer.weights[j].numpy().flatten(), align='left')\n",
        "        axes[i, j].set_title(layer.weights[j].name)"
      ],
      "execution_count": null,
      "outputs": []
    },
    {
      "cell_type": "markdown",
      "metadata": {
        "id": "xDxigguOOlAK"
      },
      "source": [
        "## Nguồn tài liệu đọc thêm\n",
        "* https://keras.io/initializers/\n",
        "* https://www.tensorflow.org/versions/r2.0/api_docs/python/tf/keras/initializers"
      ]
    }
  ]
}